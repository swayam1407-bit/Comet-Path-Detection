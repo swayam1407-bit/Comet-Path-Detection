{
 "cells": [
  {
   "cell_type": "code",
   "execution_count": 1,
   "metadata": {},
   "outputs": [],
   "source": [
    "#NAME: - Sarvesh Reshimwale\n",
    "#MIS: - 20CO105\n",
    "#DA PROJECT\n",
    "#PROBLEM STATEMENT: - ANALYSIS OF THE HYPERBOLIC MEYER GROUP COMET BELT TRAJECTORY AND CALCULATION OF ITS CLOSEST APPROACH TO SUN and verification of closest approach to be of 0.148Au"
   ]
  },
  {
   "cell_type": "markdown",
   "metadata": {},
   "source": [
    "# 1. Reading the data of csv file using numpy and importing the libraries required"
   ]
  },
  {
   "cell_type": "code",
   "execution_count": 1,
   "metadata": {
    "scrolled": true
   },
   "outputs": [],
   "source": [
    "%matplotlib inline\n",
    "import matplotlib.pyplot as plt\n",
    "import numpy as np\n",
    "from scipy.optimize import curve_fit as cf\n",
    "Time, Distance, Angle = np.loadtxt(r'/Users/sarveshreshimwale/Downloads/Comet_Data_1.csv',delimiter=',')\n",
    "import math"
   ]
  },
  {
   "cell_type": "markdown",
   "metadata": {},
   "source": [
    "\n",
    "\n",
    "\n",
    "\n",
    "\n",
    "# 2. Calculation of the distance of the comet from stationary earth reference"
   ]
  },
  {
   "cell_type": "code",
   "execution_count": 5,
   "metadata": {},
   "outputs": [
    {
     "name": "stdout",
     "output_type": "stream",
     "text": [
      "[ 1.97695757  2.37934504  2.91972202  3.55404808  4.15434468  4.5960192\n",
      "  4.89507862  5.18935566  5.5788724   5.8628259   5.68386103  5.68386103\n",
      "  5.68386103  5.68386103  5.68386103  5.68386103  8.23161829  8.59496407\n",
      "  8.32517492  8.39510703  9.23709205 10.02773301 10.02773301 10.02773301\n",
      " 10.02773301 10.02773301 10.02773301 10.02773301 12.12995484 11.53365254\n",
      " 10.85545556 11.55181891 13.01364935 13.48604502 13.48604502 13.48604502\n",
      " 13.48604502 13.48604502 13.48604502 15.191553   14.62282085 13.22028747\n",
      " 13.41695927 15.2243456  16.45535844 16.45535844 16.45535844 16.45535844\n",
      " 16.45535844 16.45535844 17.84313974 17.46973275 15.63955622 15.19876833\n",
      " 17.05521035 18.96775666 18.96775666 18.96775666 18.96775666 18.96775666\n",
      " 18.96775666 18.96775666 20.23536249 18.04193096 16.80170788 18.5493426\n",
      " 21.0228849  21.0228849  21.0228849  21.0228849  21.0228849  21.0228849\n",
      " 21.0228849  22.68085995 20.35672522 18.45744341 19.770327   22.80018219\n",
      " 23.77777443 23.77777443 23.77777443 23.77777443 23.77777443 23.77777443\n",
      " 24.79976749 22.65773239 20.07694839 20.87105821 24.17583598 25.86259701\n",
      " 25.86259701 25.86259701 25.86259701 25.86259701 25.86259701 26.86419582\n",
      " 25.03852145 21.8617517  21.89736376 25.2988623 ]\n"
     ]
    }
   ],
   "source": [
    "New_Distance = []\n",
    "for h in range( len(Time)):\n",
    "    if(abs(Angle[h]) < 1.57079633):\n",
    "        Distance_square = np.square(Distance[h])\n",
    "        s = np.sin(Angle[h])\n",
    "        o = np.cos(Angle[h])\n",
    "        sine = np.square(s)\n",
    "        cosine = np.square(o)\n",
    "        Distance_times_cos = np.multiply(Distance[h], o)\n",
    "        c = 2*Distance_times_cos\n",
    "        k = np.multiply(sine, Distance_square)\n",
    "        a = np.add(k, Distance_square)\n",
    "        b = np.add(c, cosine)\n",
    "        d = np.add(a, b)\n",
    "        f = np.sqrt(d)\n",
    "        New_Distance.append(f)\n",
    "    elif(abs(Angle[h]) > 1.57079633):\n",
    "        w = 1/math.sin(Angle[h])\n",
    "        v = 1/math.tan(Angle[h])\n",
    "        t = math.atan((w/Distance[h]) - v)\n",
    "        l = math.cos(t)\n",
    "        Distance_square = np.square(Distance[h])\n",
    "        g = np.sqrt(Distance_square - l**2)\n",
    "        n = np.sqrt(1 - l**2)\n",
    "        m = g + n\n",
    "        New_Distance.append(f)\n",
    "New_Distance = np.array(New_Distance)\n",
    "print(New_Distance) #this is the final distance of the comet to sun with earth as stationary\n"
   ]
  },
  {
   "cell_type": "markdown",
   "metadata": {},
   "source": [
    "# 3. Calculation of the conic section plot with its eccentricities "
   ]
  },
  {
   "cell_type": "code",
   "execution_count": 6,
   "metadata": {},
   "outputs": [],
   "source": [
    "j = 2*(np.pi)\n",
    "Angle_Earth= []\n",
    "for i in Time:\n",
    "    Angle_Swept = i*j\n",
    "    Angle_Earth.append(Angle_Swept)\n",
    "Angle_Earth = np.array(Angle_Earth)\n",
    "def conic_Section_Co0ordinates(Angle, Distance, Angle_Earth):\n",
    "    x = []\n",
    "    y = []\n",
    "    for i in range(len(Angle)):\n",
    "        u = Distance[i] * np.cos(Angle[i])\n",
    "        v = 1-Distance[i] * np.sin(Angle[i])\n",
    "        Earths_Rotation_Matrix = [[np.cos(Angle_Earth[i]), -np.sin(Angle_Earth[i])], [np.sin(Angle_Earth[i]),np.cos(Angle_Earth[i])]]\n",
    "        Comet_Cordinates = [u,v]\n",
    "        New_Comet_Cordinates = np.matmul(Earths_Rotation_Matrix, Comet_Cordinates)\n",
    "        x.append(New_Comet_Cordinates[0])  \n",
    "        y.append(New_Comet_Cordinates[1]) \n",
    "    x = np.array(x)\n",
    "    y = np.array(y)\n",
    "    return x,y\n",
    "\n"
   ]
  },
  {
   "cell_type": "markdown",
   "metadata": {},
   "source": [
    "# 4. Calculation of the Space cordinates f the comet with respect to sun"
   ]
  },
  {
   "cell_type": "code",
   "execution_count": 7,
   "metadata": {},
   "outputs": [],
   "source": [
    "def Space_Coordinates(Angle, Distance, Angle_Earth):\n",
    "    x = []\n",
    "    y = []\n",
    "    for i in range(len(Angle)):\n",
    "        u = 1-Distance[i] * np.cos(Angle[i])\n",
    "        v = Distance[i] * np.sin(Angle[i])\n",
    "        Earths_Rotation_Matrix = [[np.cos(Angle_Earth[i]), -np.sin(Angle_Earth[i])], [np.sin(Angle_Earth[i]),np.cos(Angle_Earth[i])]]\n",
    "        Comet_Cordinates = [u,v]\n",
    "        New_Comet_Cordinates = np.matmul(Comet_Cordinates, Earths_Rotation_Matrix)\n",
    "        x.append(New_Comet_Cordinates[0])  \n",
    "        y.append(New_Comet_Cordinates[1]) \n",
    "    x = np.array(x)\n",
    "    y = np.array(y)\n",
    "    return x,y"
   ]
  },
  {
   "cell_type": "markdown",
   "metadata": {},
   "source": [
    "# 5. Plot of the conic section curve "
   ]
  },
  {
   "cell_type": "code",
   "execution_count": 8,
   "metadata": {
    "scrolled": false
   },
   "outputs": [
    {
     "data": {
      "image/png": "[encoded data removed]",
      "text/plain": [
       "<Figure size 432x288 with 1 Axes>"
      ]
     },
     "metadata": {
      "needs_background": "light"
     },
     "output_type": "display_data"
    }
   ],
   "source": [
    "x,y = conic_Section_Co0ordinates(Angle, Distance, Angle_Earth)\n",
    "plt.scatter(x,y,s=50, color='b', marker='.')\n",
    "plt.ylabel('Eccentricity of the comet frm the sun')\n",
    "plt.xlabel('Angle of the comet to sun')\n",
    "plt.grid()\n",
    "plt.show()\n"
   ]
  },
  {
   "cell_type": "code",
   "execution_count": 9,
   "metadata": {},
   "outputs": [],
   "source": [
    "# SINCE THIS WHIRLPOOL IS A CLOSD FIGURE ORIGINATING FROM ONE POINT AND REVOLVING AROUND THAT ONLY. THIS FIGURE IS THEREFORE  \n",
    "# REPRESENTS THE CONIC SECTIONS THAT CAN BE FORMED ARE EITHER ELLIPSE OR HYPERBOLA"
   ]
  },
  {
   "cell_type": "markdown",
   "metadata": {},
   "source": [
    "# 6. Plot of the path of the comet with respect to the sun"
   ]
  },
  {
   "cell_type": "code",
   "execution_count": 25,
   "metadata": {
    "scrolled": false
   },
   "outputs": [
    {
     "data": {
      "image/png": "[encoded data removed]",
      "text/plain": [
       "<Figure size 432x288 with 1 Axes>"
      ]
     },
     "metadata": {
      "needs_background": "light"
     },
     "output_type": "display_data"
    }
   ],
   "source": [
    "y,x = Space_Coordinates(Angle, Distance, Angle_Earth)\n",
    "plt.scatter(x,y,s=10, color='g', marker='*')\n",
    "plt.ylabel('Distance of comet to sun')\n",
    "plt.xlabel('distance of the comet from the earth')\n",
    "plt.grid()\n",
    "plt.show()"
   ]
  },
  {
   "cell_type": "markdown",
   "metadata": {},
   "source": [
    "# 7. Figuring out the conic section equation of the trajectory of the comet with sun at one foci"
   ]
  },
  {
   "cell_type": "code",
   "execution_count": 11,
   "metadata": {},
   "outputs": [
    {
     "name": "stdout",
     "output_type": "stream",
     "text": [
      "The conic is 0.0888x^2 - 0.0494xy + 0.0127y^2 + -0.105x +0.0941y - 1 = 0\n"
     ]
    },
    {
     "name": "stderr",
     "output_type": "stream",
     "text": [
      "<ipython-input-11-d00a9a16f172>:12: FutureWarning: `rcond` parameter will change to the default of machine precision times ``max(M, N)`` where M and N are the input matrix dimensions.\n",
      "To use the future default and silence this warning we advise to pass `rcond=None`, to keep using the old, explicitly pass `rcond=-1`.\n",
      "  m = np.linalg.lstsq(A,b)[0].squeeze() #minimizes using least squares\n"
     ]
    }
   ],
   "source": [
    "#curve fitting function using SciPy optimization\n",
    "#Deterintion of the conic equation\n",
    "X=[]\n",
    "Y=[]\n",
    "for i in range(len(x)):\n",
    "    X.append([x[i]])\n",
    "    Y.append([y[i]])\n",
    "X = np.array(X)\n",
    "Y = np.array(Y)\n",
    "A = np.hstack([X**2, X * Y, Y**2, X, Y])\n",
    "b = np.ones_like(X)\n",
    "m = np.linalg.lstsq(A,b)[0] #minimizes using least squares\n",
    "print('The conic is {}x^2 - {}xy + {}y^2 + {}x +{}y - 1 = 0'.format(m[0],np.abs(m[1]),m[2],m[3],m[4]))\n"
   ]
  },
  {
   "cell_type": "markdown",
   "metadata": {},
   "source": [
    "# 8. Calculation of the eccentricity of the conic section"
   ]
  },
  {
   "cell_type": "code",
   "execution_count": 12,
   "metadata": {},
   "outputs": [
    {
     "name": "stdout",
     "output_type": "stream",
     "text": [
      "The eccentricity is  0.9717161288731567\n"
     ]
    }
   ],
   "source": [
    "#calculates eccentricity of the final curve\n",
    "determinant=np.array([[m[0],m[1]/2,m[3]/2],[m[1]/2,m[2],m[4]/2],[m[3]/2,m[4]/2,-1]])\n",
    "eta=1\n",
    "if np.linalg.det(determinant)<0:\n",
    "    eta=1\n",
    "else:\n",
    "    eta=-1\n",
    "eccentricity=np.sqrt(2*np.sqrt((m[0]-m[2])**2+m[1]**2)/(eta*(m[0]+m[2])+np.sqrt((m[0]-m[2])**2+m[1]**2)))\n",
    "print(\"The eccentricity is \",eccentricity) #determine eccentricty of the section by the general formula"
   ]
  },
  {
   "cell_type": "markdown",
   "metadata": {},
   "source": [
    "# 9. Calculation of the distance of the comet from the sun and sorting out the array to calculate the closest approach "
   ]
  },
  {
   "cell_type": "code",
   "execution_count": 13,
   "metadata": {
    "scrolled": true
   },
   "outputs": [
    {
     "name": "stdout",
     "output_type": "stream",
     "text": [
      "[ 0.4621273   0.65865654  0.7138274   1.34314787  1.53441444  1.62159794\n",
      "  1.7844896   1.87642499  2.01111565  2.02157126  2.199022    2.93605385\n",
      "  3.43854291  3.44039233  3.93608964  4.86735005  5.26404491  5.56323502\n",
      "  5.56611472  5.85620893  6.13816662  6.4177555   6.68331587  6.94032373\n",
      "  7.20370477  7.44189856  7.68855719  7.93853124  8.15573598  8.40780923\n",
      "  8.63384121  8.86568004  9.08815619  9.30083396  9.51422576  9.73708851\n",
      "  9.94391035 10.1483151  10.35254089 10.50450419 10.74938803 10.8860775\n",
      " 11.0917625  11.26908359 11.4507856  11.7077421  11.87051216 11.98143401\n",
      " 12.16707061 12.36867838 12.52274138 12.71466574 12.8793954  13.10784682\n",
      " 13.2182039  13.36057685 13.50386544 13.69926735 13.87522245 14.0296378\n",
      " 14.18202147 14.35470567 14.51577804 14.6231536  14.78442737 14.93351179\n",
      " 15.03160864 15.16134827 15.38716561 15.50914449 15.63075131 15.73148263\n",
      " 15.92388494 16.06727019 16.13223744 16.33509524 16.42742651 16.58371311\n",
      " 16.69311507 16.82283436 16.8992478  17.08807905 17.13788843 17.35569596\n",
      " 17.39289211 17.51703914 17.66639693 17.80390261 17.91899073 18.02081035\n",
      " 18.16864646 18.26218321 18.39272045 18.49507196 18.64114933 18.6890426\n",
      " 18.88026349 18.98306017 19.06784297 19.13792343]\n"
     ]
    }
   ],
   "source": [
    "y_array = np.array(y)\n",
    "modulus_y_array = np.abs(y_array)\n",
    "Sorted_y_array = np.sort(modulus_y_array)\n",
    "print(Sorted_y_array)"
   ]
  },
  {
   "cell_type": "markdown",
   "metadata": {},
   "source": [
    "# 10. Conclusion"
   ]
  },
  {
   "cell_type": "code",
   "execution_count": 14,
   "metadata": {
    "scrolled": false
   },
   "outputs": [
    {
     "name": "stdout",
     "output_type": "stream",
     "text": [
      "Answer: The comet follows the trajectory of a Hyperbola and it's closest approach to the sun is 0.46212730166669935Au\n"
     ]
    }
   ],
   "source": [
    "print(\"Answer: The comet follows the trajectory of a {} and it's closest approach to the sun is {}Au\".format('Hyperbola', Sorted_y_array[0]) )"
   ]
  }
 ],
 "metadata": {
  "kernelspec": {
   "display_name": "Python 3 (ipykernel)",
   "language": "python",
   "name": "python3"
  },
  "language_info": {
   "codemirror_mode": {
    "name": "ipython",
    "version": 3
   },
   "file_extension": ".py",
   "mimetype": "text/x-python",
   "name": "python",
   "nbconvert_exporter": "python",
   "pygments_lexer": "ipython3",
   "version": "3.9.7"
  }
 },
 "nbformat": 4,
 "nbformat_minor": 4
}
